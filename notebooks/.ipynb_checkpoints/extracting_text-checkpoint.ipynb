{
 "cells": [
  {
   "cell_type": "code",
   "execution_count": 1,
   "id": "5c6df073-61a8-449e-8645-3172343c3aaa",
   "metadata": {},
   "outputs": [
    {
     "name": "stderr",
     "output_type": "stream",
     "text": [
      "/home/bbellanger/Documents/python/sandbox/blackbird/venv/lib/python3.11/site-packages/spacy/util.py:910: UserWarning: [W095] Model 'en_core_web_sm' (3.8.0) was trained with spaCy v3.8.0 and may not be 100% compatible with the current version (3.7.5). If you see errors or degraded performance, download a newer compatible model or retrain your custom model with the current spaCy version. For more details and available updates, run: python -m spacy validate\n",
      "  warnings.warn(warn_msg)\n"
     ]
    }
   ],
   "source": [
    "import pymupdf\n",
    "import os\n",
    "import pandas as pd\n",
    "\n",
    "# Text analysis\n",
    "import spacy\n",
    "import scispacy\n",
    "import kindred\n",
    "import en_core_web_sm\n",
    "\n",
    "from spacy import displacy\n",
    "\n",
    "# Networking\n",
    "import networkx as nx\n",
    "from pyvis import network as net\n",
    "from pyvis.network import Network"
   ]
  },
  {
   "cell_type": "code",
   "execution_count": 2,
   "id": "10e93dca-3b76-4eed-9014-2406378cb92d",
   "metadata": {},
   "outputs": [
    {
     "name": "stdout",
     "output_type": "stream",
     "text": [
      "PyMuPDF 1.25.1: Python bindings for the MuPDF 1.25.2 library (rebased implementation).\n",
      "Python 3.11 running on linux (64-bit).\n",
      "\n"
     ]
    }
   ],
   "source": [
    "print(pymupdf.__doc__)"
   ]
  },
  {
   "cell_type": "markdown",
   "id": "162a0754-6361-43b6-854f-f6c8535b7a0b",
   "metadata": {},
   "source": [
    "# Extracting text from articles"
   ]
  },
  {
   "cell_type": "code",
   "execution_count": 3,
   "id": "39b8832c-106d-4d2f-af8d-fd5065e0d1d9",
   "metadata": {},
   "outputs": [],
   "source": [
    "article = []\n",
    "\n",
    "for filename in os.listdir(\"../input/\"):\n",
    "    doc = pymupdf.open(f\"../input/{filename}\")\n",
    "    for page in doc:\n",
    "        text = str(page.get_text(\"text\"))\n",
    "        text = text.replace(\"\\n\", \"\")\n",
    "        article.append(text)\n",
    "    with open(f\"../build/{filename}.txt\", \"w\") as file: # Save as a text file in build for each pdf file\n",
    "        file.write(str(article))"
   ]
  },
  {
   "cell_type": "code",
   "execution_count": 4,
   "id": "dce0a63a-b562-4e7d-9435-9429d2890402",
   "metadata": {},
   "outputs": [],
   "source": [
    "article = str(article)"
   ]
  },
  {
   "cell_type": "markdown",
   "id": "b670629a-478c-423d-a7cb-d8982b6c530d",
   "metadata": {},
   "source": [
    "# Identify Scientific vocabulary"
   ]
  },
  {
   "cell_type": "code",
   "execution_count": 5,
   "id": "b3cb2e9a-2b2b-42b2-b00f-582f4e786cfb",
   "metadata": {},
   "outputs": [],
   "source": [
    "# python -m spacy download en_core_web_sm --> run in terminal"
   ]
  },
  {
   "cell_type": "code",
   "execution_count": 6,
   "id": "b4cdb538-c39f-4fd4-b5df-b4659cf76d2b",
   "metadata": {},
   "outputs": [
    {
     "name": "stderr",
     "output_type": "stream",
     "text": [
      "/home/bbellanger/Documents/python/sandbox/blackbird/venv/lib/python3.11/site-packages/spacy/language.py:2195: FutureWarning: Possible set union at position 6328\n",
      "  deserializers[\"tokenizer\"] = lambda p: self.tokenizer.from_disk(  # type: ignore[union-attr]\n"
     ]
    }
   ],
   "source": [
    "nlp = spacy.load(\"en_core_sci_sm\") # Load the model"
   ]
  },
  {
   "cell_type": "code",
   "execution_count": 7,
   "id": "9d6cce9c-521e-4a74-b8c0-17093837403b",
   "metadata": {},
   "outputs": [],
   "source": [
    "document = nlp(article)\n",
    "#print(list(document.sents))"
   ]
  },
  {
   "cell_type": "code",
   "execution_count": 8,
   "id": "6175c137-81ee-49fa-9d4c-26b2a96a3f2e",
   "metadata": {},
   "outputs": [],
   "source": [
    "#print(document.ents) # Print a list of selected scientific words"
   ]
  },
  {
   "cell_type": "code",
   "execution_count": 9,
   "id": "25bdfede-8346-4525-a2c1-221ba32831b2",
   "metadata": {},
   "outputs": [],
   "source": [
    "#displacy.render(next(document.sents), style='dep', jupyter=True)"
   ]
  },
  {
   "cell_type": "markdown",
   "id": "71612422-ab1a-4b73-8652-320337d766ea",
   "metadata": {},
   "source": [
    "# Create a Dataframe from the extracted data"
   ]
  },
  {
   "cell_type": "code",
   "execution_count": 10,
   "id": "1030b1ad-9284-4eb2-a871-21c0a6e93f4b",
   "metadata": {},
   "outputs": [],
   "source": [
    "data = []\n",
    "df = pd.DataFrame()\n",
    "\n",
    "for filename in os.listdir(\"../build/\"):\n",
    "    url = str(f\"../build/{filename}\")\n",
    "    file = open(url, \"r\").read()\n",
    "    document = nlp(file)\n",
    "    #print([(ent.text) for ent in document.ents])\n",
    "    for ent in document.ents:\n",
    "        data.append(ent)\n",
    "\n",
    "df[\"weight\"] = int(1)\n",
    "df[\"keyword\"] = data\n",
    "df[\"filename\"] = filename\n",
    "df[\"filename\"] = df[\"filename\"].str[:-4]\n",
    "\n",
    "df.to_csv(\"../table/keywords.csv\")"
   ]
  },
  {
   "cell_type": "code",
   "execution_count": 11,
   "id": "2f83ec0c-d46a-4160-9674-e8a4dabb7b9a",
   "metadata": {},
   "outputs": [],
   "source": [
    "table = pd.read_csv(\"../table/filter.csv\") # Handmade filter imported from table\n",
    "df = pd.read_csv(\"../table/keywords.csv\")"
   ]
  },
  {
   "cell_type": "code",
   "execution_count": 55,
   "id": "7c69dccc-7799-4df6-b26d-65f0bf562a26",
   "metadata": {},
   "outputs": [],
   "source": [
    "# Sort the dataframe and ponderate depending on the number of occurences\n",
    "filtered_keywords = pd.merge(df, table, on=[\"keyword\"])\n",
    "filtered_keywords = filtered_keywords.sort_values(by=['filename', 'keyword'])\n",
    "collapsed_df = filtered_keywords.groupby(['filename', 'keyword']).size().reset_index(name=\"weight\")\n",
    "\n",
    "filtered_keywords.to_csv(\"../output/test.csv\")"
   ]
  },
  {
   "cell_type": "code",
   "execution_count": 56,
   "id": "d014ae05-703a-4be5-b69b-f08fbdf7459e",
   "metadata": {},
   "outputs": [
    {
     "data": {
      "text/html": [
       "<div>\n",
       "<style scoped>\n",
       "    .dataframe tbody tr th:only-of-type {\n",
       "        vertical-align: middle;\n",
       "    }\n",
       "\n",
       "    .dataframe tbody tr th {\n",
       "        vertical-align: top;\n",
       "    }\n",
       "\n",
       "    .dataframe thead th {\n",
       "        text-align: right;\n",
       "    }\n",
       "</style>\n",
       "<table border=\"1\" class=\"dataframe\">\n",
       "  <thead>\n",
       "    <tr style=\"text-align: right;\">\n",
       "      <th></th>\n",
       "      <th>filename</th>\n",
       "      <th>keyword</th>\n",
       "      <th>weight</th>\n",
       "    </tr>\n",
       "  </thead>\n",
       "  <tbody>\n",
       "    <tr>\n",
       "      <th>0</th>\n",
       "      <td>nihms27532.pdf</td>\n",
       "      <td>GABA</td>\n",
       "      <td>46</td>\n",
       "    </tr>\n",
       "    <tr>\n",
       "      <th>1</th>\n",
       "      <td>nihms27532.pdf</td>\n",
       "      <td>brain</td>\n",
       "      <td>29</td>\n",
       "    </tr>\n",
       "    <tr>\n",
       "      <th>2</th>\n",
       "      <td>nihms27532.pdf</td>\n",
       "      <td>pathway</td>\n",
       "      <td>3</td>\n",
       "    </tr>\n",
       "  </tbody>\n",
       "</table>\n",
       "</div>"
      ],
      "text/plain": [
       "         filename  keyword  weight\n",
       "0  nihms27532.pdf     GABA      46\n",
       "1  nihms27532.pdf    brain      29\n",
       "2  nihms27532.pdf  pathway       3"
      ]
     },
     "execution_count": 56,
     "metadata": {},
     "output_type": "execute_result"
    }
   ],
   "source": [
    "collapsed_df"
   ]
  },
  {
   "cell_type": "markdown",
   "id": "30043276-1b57-421f-87eb-b5ead1c3a1e7",
   "metadata": {},
   "source": [
    "# Create a network from keywords and articles"
   ]
  },
  {
   "cell_type": "code",
   "execution_count": 57,
   "id": "4dfce3b3-c056-4a64-bbaa-e193d6fef2a4",
   "metadata": {},
   "outputs": [
    {
     "name": "stdout",
     "output_type": "stream",
     "text": [
      "(1, 2, 0.125)\n",
      "(2, 1, 0.125)\n",
      "(3, 4, 0.375)\n",
      "(4, 3, 0.375)\n"
     ]
    }
   ],
   "source": [
    "G = nx.Graph()\n",
    "G.add_weighted_edges_from([(1, 2, 0.125), (1, 3, 0.75), (2, 4, 1.2), (3, 4, 0.375)])\n",
    "for n, nbrs in G.adj.items():\n",
    "   for nbr, eattr in nbrs.items():\n",
    "       wt = eattr['weight']\n",
    "       if wt < 0.5: print(f\"({n}, {nbr}, {wt:.3})\")"
   ]
  },
  {
   "cell_type": "code",
   "execution_count": 68,
   "id": "ac29258a-d21b-4f0c-bace-1e6b546d518f",
   "metadata": {},
   "outputs": [],
   "source": [
    "G = nx.Graph()\n",
    "\n",
    "for index, row in collapsed_df.iterrows():\n",
    "    G.add_weighted_edges_from([(row['filename'], row['keyword'], row['weight'])])\n",
    "    for n, nbrs in G.adj.items():\n",
    "        for nbr, eattr in nbrs.items():\n",
    "            wt = eattr['weight']\n",
    "            if wt < 0.5: print(f\"({n}, {nbr}, {wt:.3})\")"
   ]
  },
  {
   "cell_type": "code",
   "execution_count": 69,
   "id": "c06b8500-c674-45df-9058-477593ba3785",
   "metadata": {},
   "outputs": [
    {
     "name": "stdout",
     "output_type": "stream",
     "text": [
      "Warning: When  cdn_resources is 'local' jupyter notebook has issues displaying graphics on chrome/safari. Use cdn_resources='in_line' or cdn_resources='remote' if you have issues viewing graphics in a notebook.\n",
      "Warning: When  cdn_resources is 'local' jupyter notebook has issues displaying graphics on chrome/safari. Use cdn_resources='in_line' or cdn_resources='remote' if you have issues viewing graphics in a notebook.\n",
      "example.html\n"
     ]
    },
    {
     "data": {
      "text/html": [
       "\n",
       "        <iframe\n",
       "            width=\"100%\"\n",
       "            height=\"600px\"\n",
       "            src=\"example.html\"\n",
       "            frameborder=\"0\"\n",
       "            allowfullscreen\n",
       "            \n",
       "        ></iframe>\n",
       "        "
      ],
      "text/plain": [
       "<IPython.lib.display.IFrame at 0x7f782ed0bb90>"
      ]
     },
     "execution_count": 69,
     "metadata": {},
     "output_type": "execute_result"
    }
   ],
   "source": [
    "## Use Pyvis to generate a dynamical network representation\n",
    "g = net.Network(height=\"750px\", width=\"100%\", font_color=\"white\", select_menu=True, notebook=True) # bgcolor=\"#222222\",\n",
    "g = net.Network(directed = True, notebook=True)\n",
    "\n",
    "node_degree = dict(G.degree) # Count the degree of the node\n",
    "\n",
    "# Setting up node size attribute\n",
    "nx.set_node_attributes(G, node_degree, 'size')\n",
    "\n",
    "nxg = G\n",
    "g.from_nx(nxg)\n",
    "g.toggle_physics(True) # Toggle the physic in-between nodes\n",
    "g.show(name=\"example.html\", local=True, notebook=True)\n",
    "# g.show('example.html')"
   ]
  },
  {
   "cell_type": "code",
   "execution_count": null,
   "id": "20410380-62f4-4d7a-8941-51a13d97bb6d",
   "metadata": {},
   "outputs": [],
   "source": []
  }
 ],
 "metadata": {
  "kernelspec": {
   "display_name": "Python 3 (ipykernel)",
   "language": "python",
   "name": "python3"
  },
  "language_info": {
   "codemirror_mode": {
    "name": "ipython",
    "version": 3
   },
   "file_extension": ".py",
   "mimetype": "text/x-python",
   "name": "python",
   "nbconvert_exporter": "python",
   "pygments_lexer": "ipython3",
   "version": "3.11.7"
  }
 },
 "nbformat": 4,
 "nbformat_minor": 5
}

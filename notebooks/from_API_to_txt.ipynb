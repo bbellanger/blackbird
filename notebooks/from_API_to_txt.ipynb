{
 "cells": [
  {
   "cell_type": "code",
   "execution_count": 3,
   "id": "d8e5aa45-14fa-4135-b83b-05b402b865fb",
   "metadata": {},
   "outputs": [],
   "source": [
    "# Import the necessary packages\n",
    "import pandas as pd\n",
    "import urllib.request, json, csv"
   ]
  },
  {
   "cell_type": "code",
   "execution_count": 4,
   "id": "3a905548-bdf2-4948-8e0b-d356e85adc52",
   "metadata": {},
   "outputs": [],
   "source": [
    "# Import the articles dataset\n",
    "with urllib.request.urlopen(\"http://127.0.0.1:8000/api/?format=json\") as url:\n",
    "    data = pd.read_json(url)"
   ]
  },
  {
   "cell_type": "code",
   "execution_count": 5,
   "id": "90677442-5c07-480f-994b-b9ac756998cb",
   "metadata": {},
   "outputs": [
    {
     "data": {
      "text/html": [
       "<div>\n",
       "<style scoped>\n",
       "    .dataframe tbody tr th:only-of-type {\n",
       "        vertical-align: middle;\n",
       "    }\n",
       "\n",
       "    .dataframe tbody tr th {\n",
       "        vertical-align: top;\n",
       "    }\n",
       "\n",
       "    .dataframe thead th {\n",
       "        text-align: right;\n",
       "    }\n",
       "</style>\n",
       "<table border=\"1\" class=\"dataframe\">\n",
       "  <thead>\n",
       "    <tr style=\"text-align: right;\">\n",
       "      <th></th>\n",
       "      <th>id</th>\n",
       "      <th>title</th>\n",
       "      <th>date</th>\n",
       "      <th>tags</th>\n",
       "      <th>slug</th>\n",
       "      <th>content</th>\n",
       "    </tr>\n",
       "  </thead>\n",
       "  <tbody>\n",
       "    <tr>\n",
       "      <th>0</th>\n",
       "      <td>7</td>\n",
       "      <td>First article</td>\n",
       "      <td>2025-02-26</td>\n",
       "      <td>first article</td>\n",
       "      <td>first-article</td>\n",
       "      <td># Title 1\\r\\nThis is my *very* first article _...</td>\n",
       "    </tr>\n",
       "    <tr>\n",
       "      <th>1</th>\n",
       "      <td>8</td>\n",
       "      <td>This is my second article</td>\n",
       "      <td>2025-02-26</td>\n",
       "      <td>CM, Zebra finch, blabalblal</td>\n",
       "      <td>this-is-my-second-article</td>\n",
       "      <td>You can write what ever you want.</td>\n",
       "    </tr>\n",
       "  </tbody>\n",
       "</table>\n",
       "</div>"
      ],
      "text/plain": [
       "   id                      title       date                         tags  \\\n",
       "0   7              First article 2025-02-26                first article   \n",
       "1   8  This is my second article 2025-02-26  CM, Zebra finch, blabalblal   \n",
       "\n",
       "                        slug  \\\n",
       "0              first-article   \n",
       "1  this-is-my-second-article   \n",
       "\n",
       "                                             content  \n",
       "0  # Title 1\\r\\nThis is my *very* first article _...  \n",
       "1                  You can write what ever you want.  "
      ]
     },
     "execution_count": 5,
     "metadata": {},
     "output_type": "execute_result"
    }
   ],
   "source": [
    "data"
   ]
  },
  {
   "cell_type": "code",
   "execution_count": 27,
   "id": "45fccf3f-0fcb-4519-a4e3-1d846ac18dff",
   "metadata": {},
   "outputs": [],
   "source": [
    "def write_txt():\n",
    "    i = 1\n",
    "    for index, row in data.iterrows():\n",
    "        file_path = f\"../output/{row['title']}.txt\"\n",
    "        with open(file_path, 'w') as file:\n",
    "            # convert the row to a string\n",
    "            row_string = ', '.join(str(item) for item in row.values)\n",
    "            # Write the row to the file, adding a newline character\n",
    "            file.write(row_string + '\\n')"
   ]
  },
  {
   "cell_type": "code",
   "execution_count": 28,
   "id": "09d05509-c2a7-462d-a7b8-a7320c275d5d",
   "metadata": {},
   "outputs": [],
   "source": [
    "write_txt()"
   ]
  },
  {
   "cell_type": "code",
   "execution_count": null,
   "id": "2a0dd29f-0094-4c65-9a12-08c67481ee83",
   "metadata": {},
   "outputs": [],
   "source": []
  }
 ],
 "metadata": {
  "kernelspec": {
   "display_name": "Python 3 (ipykernel)",
   "language": "python",
   "name": "python3"
  },
  "language_info": {
   "codemirror_mode": {
    "name": "ipython",
    "version": 3
   },
   "file_extension": ".py",
   "mimetype": "text/x-python",
   "name": "python",
   "nbconvert_exporter": "python",
   "pygments_lexer": "ipython3",
   "version": "3.12.3"
  }
 },
 "nbformat": 4,
 "nbformat_minor": 5
}
